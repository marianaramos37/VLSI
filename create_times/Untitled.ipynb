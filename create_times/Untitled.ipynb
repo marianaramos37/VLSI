{
 "cells": [
  {
   "cell_type": "code",
   "execution_count": 1,
   "metadata": {},
   "outputs": [],
   "source": [
    "import os"
   ]
  },
  {
   "cell_type": "code",
   "execution_count": 54,
   "metadata": {},
   "outputs": [],
   "source": [
    "### BELOW CELL TAKES A LOT OF TIME"
   ]
  },
  {
   "cell_type": "code",
   "execution_count": 55,
   "metadata": {},
   "outputs": [
    {
     "name": "stdout",
     "output_type": "stream",
     "text": [
      "2\n",
      "0\n",
      "2\n",
      "2\n",
      "2\n"
     ]
    }
   ],
   "source": [
    "for x in range(30,35):\n",
    "    #print(os.system(\"minizinc --solver chuffed cp_model2.mzn ins{}.dzn --toggle-vsids -f -a -v >> ins{}.txt\".format(x,x)))"
   ]
  },
  {
   "cell_type": "code",
   "execution_count": 56,
   "metadata": {},
   "outputs": [
    {
     "data": {
      "text/plain": [
       "0"
      ]
     },
     "execution_count": 56,
     "metadata": {},
     "output_type": "execute_result"
    }
   ],
   "source": [
    "os.system(\"ls\")"
   ]
  },
  {
   "cell_type": "code",
   "execution_count": 67,
   "metadata": {},
   "outputs": [
    {
     "name": "stdout",
     "output_type": "stream",
     "text": [
      "1, 0.002\n",
      "2, 0.001\n",
      "3, 0.003\n",
      "4, 0.006\n",
      "5, 0.006\n",
      "6, 0.016\n",
      "7, 0.010\n",
      "8, 0.018\n",
      "9, 0.015\n",
      "10, 0.021\n",
      "11, 1.103\n",
      "12, 0.075\n",
      "13, 0.201\n",
      "14, 0.683\n",
      "15, 0.182\n",
      "16, 2.578\n",
      "17, 0.188\n",
      "18, 0.814\n",
      "19, 13.813\n",
      "20, 2.156\n",
      "21, 2.903\n",
      "22, 14.889\n",
      "23, 0.780\n",
      "24, 0.465\n",
      "25, 159.854\n",
      "26, 4.626\n",
      "27, 2.267\n",
      "28, 1.311\n",
      "29, 9.263\n",
      "30, 33.604\n",
      "31, 0.678\n",
      "32, 1045.309\n",
      "33, 4.249\n",
      "34, 18.905\n",
      "35, 1.938\n",
      "36, 1.352\n",
      "37, 93.612\n",
      "38, 238.766\n",
      "39, 80.849\n"
     ]
    }
   ],
   "source": [
    "\n",
    "stat = \"time=\"\n",
    "\n",
    "times = []\n",
    "\n",
    "for x in range(1,40):\n",
    "    f = open('ins{}.txt'.format(x),'r')\n",
    "    txt = f.read()\n",
    "    start = txt.find(stat)\n",
    "    newtxt = txt[start:]\n",
    "    end = newtxt.find(\"\\n\")\n",
    "    times.append(float(newtxt[len(stat):end]))\n",
    "    print(str(x)+\",\",newtxt[len(stat):end])\n"
   ]
  },
  {
   "cell_type": "code",
   "execution_count": 64,
   "metadata": {},
   "outputs": [
    {
     "data": {
      "text/plain": [
       "<Figure size 720x504 with 0 Axes>"
      ]
     },
     "metadata": {},
     "output_type": "display_data"
    },
    {
     "data": {
      "image/png": "[encoded data removed]",
      "text/plain": [
       "<Figure size 1008x720 with 1 Axes>"
      ]
     },
     "metadata": {},
     "output_type": "display_data"
    }
   ],
   "source": [
    "# import libraries\n",
    "import seaborn as sns\n",
    "import matplotlib.pyplot as plt\n",
    "\n",
    "# set plot style: grey grid in the background:\n",
    "sns.set(style=\"darkgrid\")\n",
    "\n",
    "# load dataset\n",
    "tips = sns.load_dataset(\"tips\")\n",
    "\n",
    "# Set the figure size\n",
    "plt.figure(figsize=(10, 7))\n",
    "\n",
    "\n",
    "plt.figure(figsize=(14, 10))\n",
    "\n",
    "# plot a bar chart\n",
    "ax = sns.barplot(\n",
    "    y=times, \n",
    "    x=list(range(1,40)),\n",
    "    estimator=sum, \n",
    "    ci=None, \n",
    "    color='#69b3a2');\n",
    "\n",
    "ax.set(xlabel='Instances', ylabel='Time in Seconds', title=\"Time per Instance\")\n",
    "plt.show()"
   ]
  },
  {
   "cell_type": "code",
   "execution_count": 34,
   "metadata": {},
   "outputs": [
    {
     "data": {
      "text/plain": [
       "['0.001',\n",
       " '0.000',\n",
       " '0.001',\n",
       " '0.004',\n",
       " '0.003',\n",
       " '0.012',\n",
       " '0.007',\n",
       " '0.013',\n",
       " '0.011',\n",
       " '0.014',\n",
       " '1.092',\n",
       " '0.067',\n",
       " '0.187',\n",
       " '0.675',\n",
       " '0.170',\n",
       " '2.560',\n",
       " '0.176',\n",
       " '0.800',\n",
       " '13.792',\n",
       " '2.138',\n",
       " '2.885',\n",
       " '14.869',\n",
       " '0.759',\n",
       " '0.445',\n",
       " '159.827',\n",
       " '4.605',\n",
       " '2.245',\n",
       " '1.289',\n",
       " '9.241']"
      ]
     },
     "execution_count": 34,
     "metadata": {},
     "output_type": "execute_result"
    }
   ],
   "source": [
    "times"
   ]
  },
  {
   "cell_type": "code",
   "execution_count": null,
   "metadata": {},
   "outputs": [],
   "source": []
  }
 ],
 "metadata": {
  "kernelspec": {
   "display_name": "Python 3",
   "language": "python",
   "name": "python3"
  },
  "language_info": {
   "codemirror_mode": {
    "name": "ipython",
    "version": 3
   },
   "file_extension": ".py",
   "mimetype": "text/x-python",
   "name": "python",
   "nbconvert_exporter": "python",
   "pygments_lexer": "ipython3",
   "version": "3.8.5"
  }
 },
 "nbformat": 4,
 "nbformat_minor": 4
}
