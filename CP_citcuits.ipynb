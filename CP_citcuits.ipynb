{
 "cells": [
  {
   "cell_type": "markdown",
   "metadata": {
    "id": "b9RK2-DZwYLw"
   },
   "source": [
    "### Instance to Datafile"
   ]
  },
  {
   "cell_type": "code",
   "execution_count": 312,
   "metadata": {
    "id": "URzC_13f8ayK"
   },
   "outputs": [],
   "source": [
    "inst = \"\"\"\n",
    "\n",
    "36\n",
    "23\n",
    "3 3\n",
    "3 4\n",
    "3 5\n",
    "3 6\n",
    "3 7\n",
    "3 8\n",
    "3 9\n",
    "3 10\n",
    "3 11\n",
    "3 12\n",
    "3 14\n",
    "3 15\n",
    "3 16\n",
    "3 24\n",
    "3 36\n",
    "4 3\n",
    "4 11\n",
    "4 22\n",
    "5 3\n",
    "5 4\n",
    "5 14\n",
    "5 15\n",
    "12 36\n",
    "\n",
    "\"\"\""
   ]
  },
  {
   "cell_type": "code",
   "execution_count": 313,
   "metadata": {
    "colab": {
     "base_uri": "https://localhost:8080/"
    },
    "id": "qkFzT8Ka-R8c",
    "outputId": "e6bc700d-1ae2-433b-b3ed-455c7b9bcbf2"
   },
   "outputs": [
    {
     "name": "stdout",
     "output_type": "stream",
     "text": [
      "width = 36;\n",
      "n = 23;\n",
      "dimensions = [|12, 36\n",
      "|5, 15\n",
      "|5, 14\n",
      "|5, 4\n",
      "|5, 3\n",
      "|4, 22\n",
      "|4, 11\n",
      "|4, 3\n",
      "|3, 36\n",
      "|3, 24\n",
      "|3, 16\n",
      "|3, 15\n",
      "|3, 14\n",
      "|3, 12\n",
      "|3, 11\n",
      "|3, 10\n",
      "|3, 9\n",
      "|3, 8\n",
      "|3, 7\n",
      "|3, 6\n",
      "|3, 5\n",
      "|3, 4\n",
      "|3, 3|];\n"
     ]
    }
   ],
   "source": [
    "list1 = list(reversed(inst.lstrip().rstrip().split('\\n')))\n",
    "out_inst = \"\"\n",
    "out_inst += \"width = \"+list1.pop()+\";\\n\"\n",
    "out_inst += \"n = \"+list1.pop()+\";\\n\"\n",
    "out_inst += \"dimensions = [\"\n",
    "\n",
    "\n",
    "\n",
    "for x in list1:\n",
    "\n",
    "  x1 = x.split()\n",
    "  out_inst += \"|\"+x1[0]+\", \"+x1[1]+\"\\n\"\n",
    "\n",
    "out_inst = out_inst[0:-1]\n",
    "out_inst += \"|];\"\n",
    "print(out_inst)"
   ]
  },
  {
   "cell_type": "markdown",
   "metadata": {
    "id": "cy0eGaDKwgAs"
   },
   "source": [
    "### Visualization"
   ]
  },
  {
   "cell_type": "code",
   "execution_count": 1,
   "metadata": {
    "id": "4U44Mxsfwo3G"
   },
   "outputs": [],
   "source": [
    "import matplotlib.pyplot as plt\n",
    "from matplotlib import colors\n",
    "import numpy as np\n",
    "import random"
   ]
  },
  {
   "cell_type": "code",
   "execution_count": 38,
   "metadata": {
    "id": "M7XjWwpvx4xB"
   },
   "outputs": [],
   "source": [
    "x_coordinates = [0, 34, 29, 24, 19, 19, 24, 29, 24, 30, 15, 15, 35, 19, 31, 23, 19, 27, 23, 27, 30, 36, 33, 15, 21, 24, 18, 24, 18]\n",
    "y_coordinates = [0, 22, 27, 29, 30, 22, 23, 22, 19, 19, 24, 9, 10, 13, 11, 13, 8, 15, 10, 0, 0, 0, 1, 1, 1, 4, 3, 0, 0]\n",
    "x_dimensions = [15, 5, 5, 5, 5, 5, 5, 5, 5, 5, 4, 4, 4, 4, 4, 4, 4, 4, 4, 3, 3, 3, 3, 3, 3, 3, 3, 3, 3]\n",
    "y_dimensions = [39, 18, 13, 11, 10, 8, 6, 5, 4, 3, 16, 15, 12, 9, 8, 6, 5, 4, 3, 15, 11, 10, 9, 8, 7, 6, 5, 4, 3]\n",
    "minimum_height = 40"
   ]
  },
  {
   "cell_type": "code",
   "execution_count": 39,
   "metadata": {
    "id": "tK1L2FVzzm1W"
   },
   "outputs": [],
   "source": [
    "scale = 12\n",
    "\n",
    "x_coordinates = [x*scale for x in x_coordinates]\n",
    "y_coordinates = [x*scale for x in y_coordinates]\n",
    "x_dimensions = [x*scale for x in x_dimensions]\n",
    "y_dimensions = [x*scale for x in y_dimensions]\n",
    "\n",
    "\n",
    "pos = list(zip(x_coordinates,y_coordinates))\n",
    "vec = list(zip(x_dimensions,y_dimensions))"
   ]
  },
  {
   "cell_type": "code",
   "execution_count": 40,
   "metadata": {
    "id": "SoNmT3r81K3L"
   },
   "outputs": [
    {
     "name": "stdout",
     "output_type": "stream",
     "text": [
      "39.0\n"
     ]
    }
   ],
   "source": [
    "imx = sum(max(list(zip(x_coordinates,x_dimensions)), key= lambda i: i[0]+i[1]))\n",
    "print(imx/scale)"
   ]
  },
  {
   "cell_type": "code",
   "execution_count": 41,
   "metadata": {
    "id": "wDgFT5vtLHSG"
   },
   "outputs": [
    {
     "name": "stdout",
     "output_type": "stream",
     "text": [
      "40.0\n"
     ]
    }
   ],
   "source": [
    "imy = sum(max(list(zip(y_coordinates,y_dimensions)), key= lambda i: i[0]+i[1]))\n",
    "print(imy/scale)"
   ]
  },
  {
   "cell_type": "code",
   "execution_count": null,
   "metadata": {
    "id": "YCH7tCeRDrjM"
   },
   "outputs": [],
   "source": []
  },
  {
   "cell_type": "code",
   "execution_count": 42,
   "metadata": {
    "colab": {
     "base_uri": "https://localhost:8080/",
     "height": 450
    },
    "id": "8yTZGgXozq7F",
    "outputId": "efc4ffb2-1dba-41ce-b468-82a03a4f1785"
   },
   "outputs": [
    {
     "data": {
      "image/png": "[encoded data removed]",
      "text/plain": [
       "<PIL.Image.Image image mode=RGB size=469x481 at 0x7FAB22E2C1D0>"
      ]
     },
     "execution_count": 42,
     "metadata": {},
     "output_type": "execute_result"
    }
   ],
   "source": [
    "from PIL import Image, ImageDraw, ImageFont\n",
    "import os\n",
    "\n",
    "\n",
    "im = Image.new('RGB', (imx+1, imy+1), (0, 0, 0))\n",
    "draw = ImageDraw.Draw(im)\n",
    "\n",
    "\n",
    "colors = [(255,255,255), (255,0,0), (0,255,0) , (0,0,255), (255,255,0), (255,0,255), (0,255,255) ]\n",
    "\n",
    "\n",
    "for x in colors[0:8]:\n",
    "  for y in colors[0:8]:\n",
    "    new_col = (int((x[0]+y[0])/2),int((x[1]+y[1])/2),int((x[2]+y[2])/2))\n",
    "    if new_col not in colors:\n",
    "      colors.append(new_col)\n",
    "\n",
    "colorcs = colors[:]\n",
    "\n",
    "for i in range(len(pos)):\n",
    "  xcord = x_coordinates[i]\n",
    "  ycord = y_coordinates[i]\n",
    "\n",
    "  xdim = x_dimensions[i]\n",
    "  ydim = y_dimensions[i]\n",
    "\n",
    "\n",
    "\n",
    "  if len(colorcs) <= 2:\n",
    "      colorcs = colors[:]\n",
    "\n",
    "  clr = random.choice(colorcs)\n",
    "  colorcs.remove(clr)\n",
    "\n",
    "\n",
    "\n",
    "  draw.rectangle((xcord, ycord, xcord+xdim, ycord+ydim), fill=clr, outline=(0, 0, 0))\n",
    "  \n",
    "\n",
    "  \n",
    "im.transpose(Image.FLIP_TOP_BOTTOM)\n"
   ]
  },
  {
   "cell_type": "code",
   "execution_count": null,
   "metadata": {
    "id": "vuRMW91j3Jt_"
   },
   "outputs": [],
   "source": []
  },
  {
   "cell_type": "code",
   "execution_count": 27,
   "metadata": {
    "colab": {
     "base_uri": "https://localhost:8080/",
     "height": 563
    },
    "id": "kO4DjFoQxJ1W",
    "outputId": "ea9de2d8-666f-4897-b46e-d86e0a646c8a"
   },
   "outputs": [
    {
     "name": "stdout",
     "output_type": "stream",
     "text": [
      "[0, 10, 20, 30, 40, 50, 70, 80, 90, 100, 110, 120]\n",
      "[0, 10, 20, 30, 40, 50, 70, 80, 90, 100, 110]\n",
      "[0, 10, 20, 30, 40, 50, 70, 80, 90, 100]\n",
      "[0, 10, 20, 30, 40, 50, 70, 80, 100]\n",
      "[0, 10, 20, 30, 40, 70, 80, 100]\n",
      "[0, 10, 20, 40, 70, 80, 100]\n",
      "[0, 10, 20, 40, 70, 80]\n",
      "[0, 10, 20, 70, 80]\n",
      "[0, 10, 20, 80]\n",
      "[0, 10, 20]\n",
      "[0, 10, 20, 40, 50, 60, 70, 80, 90, 100, 110, 120]\n",
      "[0, 10, 20, 40, 50, 70, 80, 90, 100, 110, 120]\n",
      "[0, 10, 20, 50, 70, 80, 90, 100, 110, 120]\n",
      "[0, 10, 50, 70, 80, 90, 100, 110, 120]\n",
      "[0, 10, 50, 70, 90, 100, 110, 120]\n",
      "[0, 10, 50, 70, 100, 110, 120]\n"
     ]
    },
    {
     "data": {
      "image/png": "[encoded data removed]",
      "text/plain": [
       "<Figure size 432x288 with 1 Axes>"
      ]
     },
     "metadata": {
      "needs_background": "light"
     },
     "output_type": "display_data"
    },
    {
     "name": "stdout",
     "output_type": "stream",
     "text": [
      "The max height is: 112 The max width is: 50\n"
     ]
    }
   ],
   "source": [
    "data = np.zeros((1000,1000))\n",
    "\n",
    "bounds = [0,10,20,30,40,50,60,70,80,90,100,110,120]\n",
    "boundcs = [0,10,20,30,40,50,60,70,80,90,100,110,120]\n",
    "\n",
    "for i in range(len(pos)):\n",
    "  xcord = x_coordinates[i]\n",
    "  ycord = y_coordinates[i]\n",
    "\n",
    "  xdim = x_dimensions[i]\n",
    "  ydim = y_dimensions[i]\n",
    "\n",
    "  if len(boundcs) == 3:\n",
    "    boundcs = bounds\n",
    "  \n",
    "  choice  = random.choice(boundcs[2:])\n",
    "  \n",
    "  data[ycord:ycord + ydim, xcord:xcord + xdim] = choice\n",
    "\n",
    "  boundcs.remove(choice)\n",
    "\n",
    "  \n",
    "\n",
    "  print(boundcs)\n",
    "\n",
    "\n",
    "\n",
    "endx = sum(max(list(zip(x_coordinates,x_dimensions)), key= lambda i: i[0]+i[1]))\n",
    "endy = sum(max(list(zip(y_coordinates,y_dimensions)), key= lambda i: i[0]+i[1]))\n",
    "data = data[0:endy,0:endx]\n",
    "\n",
    "data = np.flip(data, axis=0)\n",
    "\n",
    "# create discrete colormap\n",
    "cmap = colors.ListedColormap(['white', 'blue','green','yellow','red','purple','#7fc97f', '#ffff99',\n",
    "              '#386cb0', '#f0027f'])\n",
    "\n",
    "norm = colors.BoundaryNorm(bounds, cmap.N)\n",
    "\n",
    "fig, ax = plt.subplots()\n",
    "ax.imshow(data, cmap=cmap, norm=norm)\n",
    "\n",
    "#draw gridlines\n",
    "#ax.grid(which='major', axis='both', linestyle='-', color='k', linewidth=2)\n",
    "#ax.set_xticks(np.arange(-.5, endx, 1));\n",
    "#ax.set_yticks(np.arange(-.5, endy, 1));\n",
    "\n",
    "plt.show()\n",
    "\n",
    "\n",
    "print(\"The max height is:\", endy,\"The max width is:\", endx)"
   ]
  },
  {
   "cell_type": "code",
   "execution_count": null,
   "metadata": {
    "id": "ZuEr2PDGTfVn"
   },
   "outputs": [],
   "source": []
  }
 ],
 "metadata": {
  "colab": {
   "collapsed_sections": [],
   "name": "CP_citcuits.ipynb",
   "provenance": []
  },
  "kernelspec": {
   "display_name": "Python 3",
   "language": "python",
   "name": "python3"
  },
  "language_info": {
   "codemirror_mode": {
    "name": "ipython",
    "version": 3
   },
   "file_extension": ".py",
   "mimetype": "text/x-python",
   "name": "python",
   "nbconvert_exporter": "python",
   "pygments_lexer": "ipython3",
   "version": "3.8.5"
  }
 },
 "nbformat": 4,
 "nbformat_minor": 1
}
